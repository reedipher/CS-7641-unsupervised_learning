{
 "cells": [
  {
   "cell_type": "markdown",
   "metadata": {},
   "source": [
    "# Common"
   ]
  },
  {
   "cell_type": "markdown",
   "metadata": {},
   "source": [
    "## Imports"
   ]
  },
  {
   "cell_type": "code",
   "execution_count": 1,
   "metadata": {},
   "outputs": [],
   "source": [
    "import numpy as np\n",
    "import pandas as pd\n",
    "import time\n",
    "import matplotlib.pyplot as plt\n",
    "import seaborn as sns\n",
    "\n",
    "from sklearn.preprocessing import StandardScaler, LabelEncoder\n",
    "from sklearn.model_selection import train_test_split\n",
    "\n",
    "%matplotlib inline\n"
   ]
  },
  {
   "cell_type": "markdown",
   "metadata": {},
   "source": [
    "## Functions"
   ]
  },
  {
   "cell_type": "code",
   "execution_count": 2,
   "metadata": {},
   "outputs": [],
   "source": [
    "from sklearn.preprocessing import normalize\n",
    "\n",
    "def calculate_null_accuracy(y):\n",
    "    vals, counts = np.unique(y, return_counts=True)\n",
    "    \n",
    "    norm = counts / np.sum(counts)\n",
    "    \n",
    "    return max(norm)"
   ]
  },
  {
   "cell_type": "markdown",
   "metadata": {},
   "source": [
    "# Datasets"
   ]
  },
  {
   "cell_type": "markdown",
   "metadata": {},
   "source": [
    "## Wine Quality"
   ]
  },
  {
   "cell_type": "code",
   "execution_count": 3,
   "metadata": {},
   "outputs": [
    {
     "name": "stdout",
     "output_type": "stream",
     "text": [
      "Null Accuracy: 53.47 %\n"
     ]
    },
    {
     "data": {
      "text/plain": [
       "<matplotlib.axes._subplots.AxesSubplot at 0x7f5b8bcddba8>"
      ]
     },
     "execution_count": 3,
     "metadata": {},
     "output_type": "execute_result"
    },
    {
     "data": {
      "image/png": "[encoded data removed]",
      "text/plain": [
       "<Figure size 432x288 with 1 Axes>"
      ]
     },
     "metadata": {
      "needs_background": "light"
     },
     "output_type": "display_data"
    }
   ],
   "source": [
    "wine = pd.read_csv('datasets/wine-quality/winequality-red.csv', sep=';')\n",
    "# Preprocess the data\n",
    "bins = (2, 5.5, 8)\n",
    "group_names = ['bad', 'good']\n",
    "wine['quality'] = pd.cut(wine['quality'], bins=bins, labels=group_names)\n",
    "wine['quality'].unique()\n",
    "\n",
    "label_quality = LabelEncoder()\n",
    "wine['quality'] = label_quality.fit_transform(wine['quality'])\n",
    "\n",
    "# separate the dataset as response variable and feature variables\n",
    "wineX = wine.drop('quality', axis=1)\n",
    "winey = wine['quality']\n",
    "wine_labels = ['bad wine', 'good wine']\n",
    "\n",
    "# look at distribution\n",
    "wine_null = calculate_null_accuracy(winey)\n",
    "print(\"Null Accuracy: %.2f %%\" % (wine_null*100))\n",
    "\n",
    "sns.countplot(wine['quality'])"
   ]
  },
  {
   "cell_type": "markdown",
   "metadata": {},
   "source": [
    "## Digits"
   ]
  },
  {
   "cell_type": "code",
   "execution_count": 4,
   "metadata": {},
   "outputs": [
    {
     "name": "stdout",
     "output_type": "stream",
     "text": [
      "Null Accuracy: 10.18 %\n"
     ]
    },
    {
     "data": {
      "text/plain": [
       "<matplotlib.axes._subplots.AxesSubplot at 0x7f5b8b147198>"
      ]
     },
     "execution_count": 4,
     "metadata": {},
     "output_type": "execute_result"
    },
    {
     "data": {
      "image/png": "[encoded data removed]",
      "text/plain": [
       "<Figure size 432x288 with 1 Axes>"
      ]
     },
     "metadata": {
      "needs_background": "light"
     },
     "output_type": "display_data"
    }
   ],
   "source": [
    "from sklearn.datasets import load_digits\n",
    "digits = load_digits()\n",
    "\n",
    "digitsX = digits.data\n",
    "digitsy = digits.target\n",
    "digits_labels = ['0', '1', '2', '3', '4', '5', '6', '7', '8', '9']\n",
    "\n",
    "\n",
    "# look at distribution\n",
    "digits_null = calculate_null_accuracy(digitsy)\n",
    "print(\"Null Accuracy: %.2f %%\" % (digits_null*100))\n",
    "\n",
    "sns.countplot(digitsy)"
   ]
  },
  {
   "cell_type": "markdown",
   "metadata": {},
   "source": [
    "## Test & Training Sets"
   ]
  },
  {
   "cell_type": "code",
   "execution_count": 10,
   "metadata": {},
   "outputs": [
    {
     "name": "stdout",
     "output_type": "stream",
     "text": [
      "Number of samples: 1797, Number of features: 64\n"
     ]
    }
   ],
   "source": [
    "'''\n",
    "X = wineX\n",
    "y = winey\n",
    "labels = wine_labels\n",
    "'''\n",
    "X = digitsX\n",
    "y = digitsy\n",
    "labels = digits_labels\n",
    "\n",
    "testSize = 0.3\n",
    "\n",
    "X_train, X_test, y_train, y_test = train_test_split(X, y, test_size=testSize, random_state=0)\n",
    "\n",
    "numSamples, numFeatures = X.shape\n",
    "print(\"Number of samples: %d, Number of features: %d\" %(numSamples, numFeatures))\n"
   ]
  },
  {
   "cell_type": "markdown",
   "metadata": {},
   "source": [
    "## Report Notes\n",
    "### Wine\n",
    "- Samples = 1599\n",
    "- Features = 11\n",
    "- Null Accuracy = 53.47%\n",
    "\n",
    "### Digits\n",
    "- Samples = 1797\n",
    "- Features = 64\n",
    "- Null Accuray = 10.18%"
   ]
  },
  {
   "cell_type": "markdown",
   "metadata": {},
   "source": [
    "# Cluster\n",
    "Choose your own measure of distance similarity\n",
    "\n",
    "distance used: EXPLAIN"
   ]
  },
  {
   "cell_type": "markdown",
   "metadata": {},
   "source": [
    "## K-means\n",
    "How did you choose k?"
   ]
  },
  {
   "cell_type": "code",
   "execution_count": null,
   "metadata": {},
   "outputs": [],
   "source": []
  },
  {
   "cell_type": "markdown",
   "metadata": {},
   "source": [
    "## Expectation Maximization"
   ]
  },
  {
   "cell_type": "code",
   "execution_count": null,
   "metadata": {},
   "outputs": [],
   "source": []
  },
  {
   "cell_type": "markdown",
   "metadata": {},
   "source": [
    "## Report Notes\n",
    "### Wine\n",
    "\n",
    "### Digits"
   ]
  },
  {
   "cell_type": "markdown",
   "metadata": {},
   "source": [
    "# Dimensionality Reduction"
   ]
  },
  {
   "cell_type": "markdown",
   "metadata": {},
   "source": [
    "## PCA\n",
    "- What is the distribution of eigenvalues?\n",
    "- Assuming you only generate k projections (i.e. you do dimensionality reduction), how well is the data reconstructred\n"
   ]
  },
  {
   "cell_type": "code",
   "execution_count": null,
   "metadata": {},
   "outputs": [],
   "source": []
  },
  {
   "cell_type": "markdown",
   "metadata": {},
   "source": [
    "## ICA\n",
    "- How kurtotic are the distributions\n",
    "- Do the projection axes seem \"meaningful\"?"
   ]
  },
  {
   "cell_type": "code",
   "execution_count": null,
   "metadata": {},
   "outputs": [],
   "source": []
  },
  {
   "cell_type": "markdown",
   "metadata": {},
   "source": [
    "## Randomized Projections\n",
    "- Assuming you only generate k projections (i.e. you do dimensionality reduction) how well is the data reconstructed?\n",
    "- How much variation did you get when you re-ran several times?"
   ]
  },
  {
   "cell_type": "code",
   "execution_count": null,
   "metadata": {},
   "outputs": [],
   "source": []
  },
  {
   "cell_type": "markdown",
   "metadata": {},
   "source": [
    "## Dealer's Choice"
   ]
  },
  {
   "cell_type": "code",
   "execution_count": null,
   "metadata": {},
   "outputs": [],
   "source": []
  },
  {
   "cell_type": "markdown",
   "metadata": {},
   "source": [
    "## Report Notes\n",
    "### Wine\n",
    "\n",
    "### Digits"
   ]
  },
  {
   "cell_type": "markdown",
   "metadata": {},
   "source": [
    "# Clustering + Dimensionality Reduction\n",
    "2 datasets, 4 dimensionality reductions, 2 algorithms (16 problems)\n",
    "- Did you get the same clusters as before? Why or why not?"
   ]
  },
  {
   "cell_type": "code",
   "execution_count": null,
   "metadata": {},
   "outputs": [],
   "source": []
  },
  {
   "cell_type": "markdown",
   "metadata": {},
   "source": [
    "## Report Notes\n",
    "### Wine\n",
    "\n",
    "### Digits"
   ]
  },
  {
   "cell_type": "markdown",
   "metadata": {},
   "source": [
    "# NN with Dimensionality Reduction\n",
    "Apply the dimensionality reduction algorithms to one of your datasets from assignment 1 (already done above (one wine set)) and rerun your neural network learner on the newly projected data.\n",
    "- Any differences in performance?\n",
    "- Any differences in speed?\n",
    "- Any other differences?"
   ]
  },
  {
   "cell_type": "code",
   "execution_count": null,
   "metadata": {},
   "outputs": [],
   "source": []
  },
  {
   "cell_type": "markdown",
   "metadata": {},
   "source": [
    "## Report Notes\n",
    "### Wine\n",
    "\n",
    "### Digits"
   ]
  },
  {
   "cell_type": "markdown",
   "metadata": {},
   "source": [
    "# NN with Dimensionality Reduction and Clustering Applied to Dataset\n",
    "Apply the clustering algorithms to the same dataset to which you just applied the dimensionality reduction algorithms, treating the clusters as if they were new features. In other words, treat the clustering algorithms as if they were dimensionality reduction algorithms. \n",
    "\n",
    "Clustering -> neural network\n",
    "\n",
    "Rerun your neural network learner on the newly projected data.\n",
    "- Any differences in performance?\n",
    "- Any differences in speed?\n",
    "- Any other differences?"
   ]
  },
  {
   "cell_type": "code",
   "execution_count": null,
   "metadata": {},
   "outputs": [],
   "source": []
  },
  {
   "cell_type": "markdown",
   "metadata": {},
   "source": [
    "## Report Notes\n",
    "### Wine\n",
    "\n",
    "### Digits\n"
   ]
  },
  {
   "cell_type": "markdown",
   "metadata": {},
   "source": [
    "# General Notes\n",
    "- Explanation of your methods\n",
    "- How are these algorithms the same as, different from, and interact with your earlier work\n",
    "- Clusters\n",
    "    - A description of the clusters that you got\n",
    "    - Why did you get the clusters you did\n",
    "    - Do they make “sense”? See isbell paper\n",
    "    - If you used data that already had labels (For example data from a classification problem from assignment #1) did the clusters line up with the labels?\n",
    "    - Do they otherwise line up naturally?\n",
    "    - Why or why not?\n",
    "    - Compare and contrast the different algorithms?\n",
    "    - What sort of changes might you make to each of those algorithms to improve performance?\n",
    "    - How much performance was due to the problems you chose?\n",
    "    - Justify your analysis with data explicitly\n",
    "- It might be difficult to generate the same kinds of graphs for the part of the assignment. Come up with some way to describe the kinds of clusters you get. If you can do it visually, all the better.\n",
    "\n",
    "\n",
    "\n",
    "\n",
    "\n",
    "\n",
    "\n",
    "\n",
    "\n",
    "\n",
    "\n",
    "\n",
    "\n",
    "\n",
    "\n",
    "\n",
    "\n",
    "\n",
    "\n",
    "\n",
    "\n",
    "\n",
    "\n",
    "\n",
    "\n",
    "\n",
    "\n",
    "\n",
    "\n",
    "\n",
    "\n",
    "\n",
    "\n",
    "\n",
    "\n",
    "\n",
    "\n",
    "\n",
    "\n",
    "\n",
    "\n",
    "\n",
    "\n",
    "\n",
    "\n",
    "\n",
    "\n",
    "\n"
   ]
  },
  {
   "cell_type": "code",
   "execution_count": null,
   "metadata": {},
   "outputs": [],
   "source": []
  }
 ],
 "metadata": {
  "kernelspec": {
   "display_name": "Python 3",
   "language": "python",
   "name": "python3"
  },
  "language_info": {
   "codemirror_mode": {
    "name": "ipython",
    "version": 3
   },
   "file_extension": ".py",
   "mimetype": "text/x-python",
   "name": "python",
   "nbconvert_exporter": "python",
   "pygments_lexer": "ipython3",
   "version": "3.7.1"
  }
 },
 "nbformat": 4,
 "nbformat_minor": 2
}
